{
 "cells": [
  {
   "cell_type": "code",
   "execution_count": 1,
   "metadata": {},
   "outputs": [
    {
     "name": "stdout",
     "output_type": "stream",
     "text": [
      "c:\\Users\\preks\\OneDrive\\Desktop\\Programming\\gender-bias\\gender-bias\n"
     ]
    },
    {
     "name": "stderr",
     "output_type": "stream",
     "text": [
      "C:\\Users\\preks\\AppData\\Local\\Packages\\PythonSoftwareFoundation.Python.3.10_qbz5n2kfra8p0\\LocalCache\\local-packages\\Python310\\site-packages\\IPython\\core\\magics\\osm.py:417: UserWarning: using dhist requires you to install the `pickleshare` library.\n",
      "  self.shell.db['dhist'] = compress_dhist(dhist)[-100:]\n"
     ]
    }
   ],
   "source": [
    "cd .."
   ]
  },
  {
   "cell_type": "code",
   "execution_count": 2,
   "metadata": {},
   "outputs": [
    {
     "name": "stderr",
     "output_type": "stream",
     "text": [
      "C:\\Users\\preks\\AppData\\Local\\Packages\\PythonSoftwareFoundation.Python.3.10_qbz5n2kfra8p0\\LocalCache\\local-packages\\Python310\\site-packages\\spacy\\util.py:275: UserWarning: [W031] Model 'en_core_web_sm' (2.2.0) requires spaCy v2.2 and is incompatible with the current spaCy version (2.3.9). This may lead to unexpected results or runtime errors. To resolve this, download a newer compatible model or retrain your custom model with the current spaCy version. For more details and available updates, run: python -m spacy validate\n",
      "  warnings.warn(warn_msg)\n"
     ]
    },
    {
     "name": "stdout",
     "output_type": "stream",
     "text": [
      "{'ConditionalSuperlativesDetector': <class 'genderbias.conditionalsuperlatives.ConditionalSuperlativesDetector'>, 'EffortDetector': <class 'genderbias.effort.EffortDetector'>, 'FemaleDetector': <class 'genderbias.femalewords.FemaleDetector'>, 'GenderedWordDetector': <class 'genderbias.genderedwords.GenderedWordDetector'>, 'MaleDetector': <class 'genderbias.malewords.MaleDetector'>, 'PersonalLifeDetector': <class 'genderbias.personal_life.PersonalLifeDetector'>, 'PublicationDetector': <class 'genderbias.publications.PublicationDetector'>}\n"
     ]
    }
   ],
   "source": [
    "from genderbias import ALL_SCANNED_DETECTORS, Document\n",
    "print(ALL_SCANNED_DETECTORS)"
   ]
  },
  {
   "cell_type": "code",
   "execution_count": 3,
   "metadata": {},
   "outputs": [
    {
     "data": {
      "text/plain": [
       "{'ConditionalSuperlativesDetector': genderbias.conditionalsuperlatives.ConditionalSuperlativesDetector,\n",
       " 'EffortDetector': genderbias.effort.EffortDetector,\n",
       " 'FemaleDetector': genderbias.femalewords.FemaleDetector,\n",
       " 'GenderedWordDetector': genderbias.genderedwords.GenderedWordDetector,\n",
       " 'MaleDetector': genderbias.malewords.MaleDetector,\n",
       " 'PersonalLifeDetector': genderbias.personal_life.PersonalLifeDetector,\n",
       " 'PublicationDetector': genderbias.publications.PublicationDetector}"
      ]
     },
     "execution_count": 3,
     "metadata": {},
     "output_type": "execute_result"
    }
   ],
   "source": [
    "ALL_SCANNED_DETECTORS"
   ]
  },
  {
   "cell_type": "code",
   "execution_count": 4,
   "metadata": {},
   "outputs": [
    {
     "name": "stdout",
     "output_type": "stream",
     "text": [
      "Effort vs Accomplishment\n",
      "  [215-353]: Effort vs Accomplishment: The word 'willing' tends to speak about effort more than accomplishment. (Try replacing with phrasing that emphasizes accomplishment.)\n",
      "  [64-161]: Effort vs Accomplishment: The word 'diligent' tends to speak about effort more than accomplishment. (Try replacing with phrasing that emphasizes accomplishment.)\n",
      "  [162-214]: Effort vs Accomplishment: The word 'willing' tends to speak about effort more than accomplishment. (Try replacing with phrasing that emphasizes accomplishment.)\n"
     ]
    }
   ],
   "source": [
    "inline_example = Document(\"I am writing to recommend NAME for the position of lab manager. As is required for this position, she is diligent, hardworking, caring, sensitive and meticulous. She is willing and able to learn new things quickly. While she is pleasant and considerate, she is also willing to act firmly to enforce necessary procedures for research with human subjects. She will not be afraid to challenge any hint of cutting corners.\")\n",
    "effort_report = ALL_SCANNED_DETECTORS['EffortDetector']().get_report(inline_example)\n",
    "print(effort_report)"
   ]
  },
  {
   "cell_type": "code",
   "execution_count": 5,
   "metadata": {},
   "outputs": [
    {
     "name": "stdout",
     "output_type": "stream",
     "text": [
      "\n",
      "Terms biased towards women\n",
      "  [115-126]: hardworking\n",
      " SUMMARY: Depending on context, these words may be biased towards recruiting women\n"
     ]
    }
   ],
   "source": [
    "effort_report = ALL_SCANNED_DETECTORS['FemaleDetector']().get_report(inline_example)\n",
    "print(effort_report)"
   ]
  },
  {
   "cell_type": "code",
   "execution_count": 6,
   "metadata": {},
   "outputs": [
    {
     "name": "stdout",
     "output_type": "stream",
     "text": [
      "Conditional Superlatives\n",
      "\n",
      "Effort vs Accomplishment\n",
      "  [215-353]: Effort vs Accomplishment: The word 'willing' tends to speak about effort more than accomplishment. (Try replacing with phrasing that emphasizes accomplishment.)\n",
      "  [64-161]: Effort vs Accomplishment: The word 'diligent' tends to speak about effort more than accomplishment. (Try replacing with phrasing that emphasizes accomplishment.)\n",
      "  [162-214]: Effort vs Accomplishment: The word 'willing' tends to speak about effort more than accomplishment. (Try replacing with phrasing that emphasizes accomplishment.)\n",
      "\n",
      "\n",
      "Terms biased towards women\n",
      "  [115-126]: hardworking\n",
      " SUMMARY: Depending on context, these words may be biased towards recruiting women\n",
      "\n",
      "Unnecessarily Gendered Words\n",
      "\n",
      "Terms biased towards men:\n",
      "\n",
      "Personal Life\n",
      "\n",
      "Publications\n",
      " SUMMARY: This document does not mention many publications. Try referencing more concrete publications or work byproducts, if possible.\n"
     ]
    }
   ],
   "source": [
    "reports = [str(detector().get_report(inline_example)) for detector in ALL_SCANNED_DETECTORS.values()]\n",
    "print(\"\\n\\n\".join(reports))"
   ]
  }
 ],
 "metadata": {
  "kernelspec": {
   "display_name": "Python 3",
   "language": "python",
   "name": "python3"
  },
  "language_info": {
   "codemirror_mode": {
    "name": "ipython",
    "version": 3
   },
   "file_extension": ".py",
   "mimetype": "text/x-python",
   "name": "python",
   "nbconvert_exporter": "python",
   "pygments_lexer": "ipython3",
   "version": "3.10.11"
  }
 },
 "nbformat": 4,
 "nbformat_minor": 2
}
